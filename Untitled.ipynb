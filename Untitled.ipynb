{
 "cells": [
  {
   "cell_type": "code",
   "execution_count": 1,
   "id": "ace31bd8-1f52-4b35-b7e5-da0b58ff4374",
   "metadata": {},
   "outputs": [],
   "source": [
    "import openai\n",
    "import textract\n",
    "import textwrap\n",
    "import os\n",
    "import numpy as np"
   ]
  },
  {
   "cell_type": "code",
   "execution_count": 2,
   "id": "62e17f5b-5990-4bb9-a454-dfe92df3aca6",
   "metadata": {},
   "outputs": [],
   "source": [
    "openai.api_key = os.getenv(\"OPENAI_API_KEY\")"
   ]
  },
  {
   "cell_type": "code",
   "execution_count": 3,
   "id": "59646559-35d1-40b9-b74e-2ebeb547c4c4",
   "metadata": {},
   "outputs": [],
   "source": [
    "text = textract.process(\"/Users/dave/Downloads/EisDocuments(1)/ISRO_Wilderness_DEIS_remediated.pdf\").decode('utf-8')"
   ]
  },
  {
   "cell_type": "code",
   "execution_count": 4,
   "id": "7411d271-4aa4-4c2b-8da3-c9289a0a4d28",
   "metadata": {},
   "outputs": [],
   "source": [
    "chunks = textwrap.wrap(text, 4000)"
   ]
  },
  {
   "cell_type": "code",
   "execution_count": 5,
   "id": "8a284664-3613-4935-a863-c3d6452b899f",
   "metadata": {},
   "outputs": [
    {
     "data": {
      "text/plain": [
       "105"
      ]
     },
     "execution_count": 5,
     "metadata": {},
     "output_type": "execute_result"
    }
   ],
   "source": [
    "len(chunks)"
   ]
  },
  {
   "cell_type": "code",
   "execution_count": 9,
   "id": "b46550d3-299c-4aa5-951f-c8f5f1c346a6",
   "metadata": {},
   "outputs": [],
   "source": [
    "def chunk_embeddings(text):\n",
    "    embeds = []\n",
    "    for chunk in text:\n",
    "        vector = openai.Embedding.create(input=[chunk], model=\"text-embedding-ada-002\")['data'][0]['embedding']\n",
    "        embeds.append(vector)\n",
    "    return embeds"
   ]
  },
  {
   "cell_type": "code",
   "execution_count": 10,
   "id": "6222083a-330d-42ab-a81b-f89e7a218e00",
   "metadata": {},
   "outputs": [],
   "source": [
    "embeddings = chunk_embeddings(chunks)"
   ]
  },
  {
   "cell_type": "code",
   "execution_count": 11,
   "id": "5da2b1e7-f094-4920-b6ec-0b03eeb49cd0",
   "metadata": {},
   "outputs": [
    {
     "data": {
      "text/plain": [
       "105"
      ]
     },
     "execution_count": 11,
     "metadata": {},
     "output_type": "execute_result"
    }
   ],
   "source": [
    "len(embeddings)"
   ]
  },
  {
   "cell_type": "code",
   "execution_count": 13,
   "id": "dce53637-0b2b-483a-83f3-ebc920e726ad",
   "metadata": {},
   "outputs": [
    {
     "data": {
      "text/plain": [
       "(105, 1536)"
      ]
     },
     "execution_count": 13,
     "metadata": {},
     "output_type": "execute_result"
    }
   ],
   "source": [
    "np.array(embeddings).shape"
   ]
  },
  {
   "cell_type": "code",
   "execution_count": 15,
   "id": "28fa1965-0162-4113-89ba-93cc92569f65",
   "metadata": {},
   "outputs": [],
   "source": [
    "query = \"What modifications to existing park structures does each alternative propose?\"\n",
    "\n",
    "q_embed = openai.Embedding.create(input=[query], model=\"text-embedding-ada-002\")['data'][0]['embedding']"
   ]
  },
  {
   "cell_type": "code",
   "execution_count": 16,
   "id": "52d06811-bcac-4826-87a3-701e5cdc68b2",
   "metadata": {},
   "outputs": [],
   "source": [
    "q_embed = np.array(q_embed)"
   ]
  },
  {
   "cell_type": "code",
   "execution_count": 20,
   "id": "53e22529-277b-4b20-baa1-07e97a78a2c3",
   "metadata": {},
   "outputs": [],
   "source": [
    "q_embed = q_embed.reshape(1,-1)"
   ]
  },
  {
   "cell_type": "code",
   "execution_count": null,
   "id": "02f7dda7-1c49-4658-bcdb-af0980c1c48b",
   "metadata": {},
   "outputs": [],
   "source": []
  }
 ],
 "metadata": {
  "kernelspec": {
   "display_name": "Python 3 (ipykernel)",
   "language": "python",
   "name": "python3"
  },
  "language_info": {
   "codemirror_mode": {
    "name": "ipython",
    "version": 3
   },
   "file_extension": ".py",
   "mimetype": "text/x-python",
   "name": "python",
   "nbconvert_exporter": "python",
   "pygments_lexer": "ipython3",
   "version": "3.11.4"
  }
 },
 "nbformat": 4,
 "nbformat_minor": 5
}
