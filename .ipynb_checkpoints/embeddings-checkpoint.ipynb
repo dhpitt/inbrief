{
 "cells": [
  {
   "cell_type": "code",
   "execution_count": 38,
   "id": "ace31bd8-1f52-4b35-b7e5-da0b58ff4374",
   "metadata": {},
   "outputs": [],
   "source": [
    "import openai\n",
    "import textwrap\n",
    "import os\n",
    "import numpy as np\n",
    "from PyPDF2 import PdfReader\n",
    "import re"
   ]
  },
  {
   "cell_type": "code",
   "execution_count": 39,
   "id": "62e17f5b-5990-4bb9-a454-dfe92df3aca6",
   "metadata": {},
   "outputs": [],
   "source": [
    "openai.api_key = os.getenv(\"OPENAI_API_KEY\")"
   ]
  },
  {
   "cell_type": "code",
   "execution_count": 48,
   "id": "c377ab86-cade-4c0d-801e-6a23814aa9f5",
   "metadata": {},
   "outputs": [
    {
     "name": "stdout",
     "output_type": "stream",
     "text": [
      "146\n"
     ]
    }
   ],
   "source": [
    "reader = PdfReader(\"/Users/dave/Downloads/EisDocuments(1)/ISRO_Wilderness_DEIS_remediated.pdf\")\n",
    "number_of_pages = len(reader.pages)\n",
    "\n",
    "print(number_of_pages)\n",
    "pattern = r'[^A-Za-z0-9.,\\'\\\"\\$\\ ]+'\n",
    "text = [re.sub(pattern, '', page.extract_text()) for page in reader.pages]"
   ]
  },
  {
   "cell_type": "code",
   "execution_count": 52,
   "id": "638fc97e-49d5-4284-b346-ba6c656b4203",
   "metadata": {},
   "outputs": [],
   "source": [
    "text = ' '.join(text)"
   ]
  },
  {
   "cell_type": "code",
   "execution_count": 53,
   "id": "ebfe6b0a-96a4-46bc-94c3-63d292364b32",
   "metadata": {},
   "outputs": [],
   "source": [
    "chunks = textwrap.wrap(text, 3900)"
   ]
  },
  {
   "cell_type": "code",
   "execution_count": 54,
   "id": "b46550d3-299c-4aa5-951f-c8f5f1c346a6",
   "metadata": {},
   "outputs": [],
   "source": [
    "def chunk_embeddings(text):\n",
    "    embeds = []\n",
    "    for chunk in text:\n",
    "        vector = openai.Embedding.create(input=[chunk], model=\"text-embedding-ada-002\")['data'][0]['embedding']\n",
    "        embeds.append(vector)\n",
    "    return embeds"
   ]
  },
  {
   "cell_type": "code",
   "execution_count": 55,
   "id": "6222083a-330d-42ab-a81b-f89e7a218e00",
   "metadata": {},
   "outputs": [],
   "source": [
    "embeddings = chunk_embeddings(chunks)"
   ]
  },
  {
   "cell_type": "code",
   "execution_count": 56,
   "id": "5da2b1e7-f094-4920-b6ec-0b03eeb49cd0",
   "metadata": {},
   "outputs": [
    {
     "data": {
      "text/plain": [
       "107"
      ]
     },
     "execution_count": 56,
     "metadata": {},
     "output_type": "execute_result"
    }
   ],
   "source": [
    "len(embeddings)"
   ]
  },
  {
   "cell_type": "code",
   "execution_count": 10,
   "id": "dce53637-0b2b-483a-83f3-ebc920e726ad",
   "metadata": {},
   "outputs": [
    {
     "data": {
      "text/plain": [
       "(105, 1536)"
      ]
     },
     "execution_count": 10,
     "metadata": {},
     "output_type": "execute_result"
    }
   ],
   "source": [
    "embeddings"
   ]
  },
  {
   "cell_type": "code",
   "execution_count": 11,
   "id": "28fa1965-0162-4113-89ba-93cc92569f65",
   "metadata": {},
   "outputs": [],
   "source": [
    "query = \"What modifications to existing park structures does each alternative propose?\"\n",
    "\n",
    "q_embed = openai.Embedding.create(input=[query], model=\"text-embedding-ada-002\")['data'][0]['embedding']"
   ]
  },
  {
   "cell_type": "code",
   "execution_count": 18,
   "id": "52d06811-bcac-4826-87a3-701e5cdc68b2",
   "metadata": {},
   "outputs": [],
   "source": [
    "q_embed = np.array(q_embed)\n",
    "q_embed = q_embed.reshape(1,-1)\n",
    "\n",
    "embeddings = np.array(embeddings)"
   ]
  },
  {
   "cell_type": "code",
   "execution_count": 20,
   "id": "53e22529-277b-4b20-baa1-07e97a78a2c3",
   "metadata": {},
   "outputs": [],
   "source": [
    "sims = embeddings @ q_embed.T"
   ]
  },
  {
   "cell_type": "code",
   "execution_count": 23,
   "id": "02f7dda7-1c49-4658-bcdb-af0980c1c48b",
   "metadata": {},
   "outputs": [
    {
     "data": {
      "text/plain": [
       "6"
      ]
     },
     "execution_count": 23,
     "metadata": {},
     "output_type": "execute_result"
    }
   ],
   "source": [
    "np.argmax(sims)"
   ]
  },
  {
   "cell_type": "code",
   "execution_count": 24,
   "id": "6fa8771b-523e-417d-aae0-9991604a2587",
   "metadata": {},
   "outputs": [
    {
     "data": {
      "text/plain": [
       "'those areas. Visitors would have  additional opportunities for solitude as a result of implementation of a reservation system for campgrounds.  However, visitors could not change their itineraries once they started their trip. This system would likely  guarantee that campgrounds would never be overbooked or crowded, providing for the best opportunity for  solitude among all alternatives. However, the inability to change itineraries would detract from the  opportunity for unconfined recreation. Alternative C offers the biggest change in the opportunity for  unconfined recreation and solitude compared to current conditions. The potential opportunity for winter  public use would offer a significant new opportunity for self-reliance. Additionally, removal of the existing  shelters within wilderness would contribute to self-reliance and self-discovery. These substantial changes  would support opportunities for unconfined recreation and solitude.  The prohibition on commercial services would likely not be noticeable within wilderness because most  commercial services are offered outside the wilderness boundary. However, some commercial services rely  on campgrounds within wilderness for overnight stays. Under this alternative, the park may become less  accessible for those using commercial operators outside wilderness that rely on camping within wilderness  for overnight stays. In conclusion, this alternative would provide substantial changes in the opportunity for  visitor solitude in some areas and situations but would likely reduce access for some visitors and may result  in trail crowding and other issues in other areas.  Impacts to historic structures and installations, districts, and their associated cultural landscapes would be  similar to those described for alternative B. More structures would be stabilized under alternative C  compared to alternative B, but fewer would be preserved. The stabilized structures would continue to  contribute to the story of historic use of the island’s wilderness. The NPS would evaluate the condition of  stabilized structures over a six-year cycle. If a structure is in poor condition and no partnership program is  available to bring it to fair or good condition during the six-year cycle, the NPS would document the  structure, and it would be allowed to molder. Once structures have moldered into the landscape, they would  no longer contribute to the other features of value quality of wilderness, resulting in a permanent, adverse  impact. The NPS may continue to stabilize structures that are in fair or good condition without the  assistance of a partner.   v          Cultural  Resources –  Historic  Structures,  Districts, and  Landscapes   Alternative A: No Action   Under alternative A, beneficial impacts on historic  structures and installations would result from the  continued efforts to inventory and document historic  structures and installations, perform National Register  eligibility evaluations, and continue the preservation  and maintenance of historic structures and  installations after completion of an MRA. However,  permanent, adverse impacts on the integrity of historic  structures and districts would result from the  progressive weathering, deterioration, and potential  loss of historic structures and installations that cannot  be maintained and preserved. The lack of coordinated  preservation partnership agreements has the potential  to contribute to adverse impacts on historic structures  as contributing site features deteriorate or receive  minimal preservation direction or attention. In addition,  the lack of prioritization represented in the ad hoc  preservation of structures and installations, based on  individual condition and interests of volunteers, may  lead to a loss of integral historic features while less  significant ones are retained. Under this alternative,  there would be no attempt to prioritize which  structures and installations are retained and where  the park'"
      ]
     },
     "execution_count": 24,
     "metadata": {},
     "output_type": "execute_result"
    }
   ],
   "source": [
    "chunks[6]"
   ]
  },
  {
   "cell_type": "code",
   "execution_count": 44,
   "id": "aed1f9bc-bb9a-4a9d-a8ec-38af28ab596a",
   "metadata": {},
   "outputs": [],
   "source": [
    "indices = list(sims.T.argsort()[0][-10:][::-1])"
   ]
  },
  {
   "cell_type": "code",
   "execution_count": 46,
   "id": "5bc65554-d214-43b3-b93d-f50577256a20",
   "metadata": {},
   "outputs": [],
   "source": [
    "inds = sorted(indices)"
   ]
  },
  {
   "cell_type": "code",
   "execution_count": 48,
   "id": "3e562471-4589-46b6-b36f-eedbcf22b364",
   "metadata": {},
   "outputs": [],
   "source": [
    "small_doc = ''.join([chunks[i] for i in inds])"
   ]
  },
  {
   "cell_type": "code",
   "execution_count": 49,
   "id": "5379892c-ec6f-4585-b9d7-ef70627db058",
   "metadata": {},
   "outputs": [
    {
     "data": {
      "text/plain": [
       "39969"
      ]
     },
     "execution_count": 49,
     "metadata": {},
     "output_type": "execute_result"
    }
   ],
   "source": [
    "len(small_doc)"
   ]
  },
  {
   "cell_type": "code",
   "execution_count": 50,
   "id": "56f16939-1815-4b6f-a180-59dc673a32ab",
   "metadata": {},
   "outputs": [
    {
     "data": {
      "text/plain": [
       "419122"
      ]
     },
     "execution_count": 50,
     "metadata": {},
     "output_type": "execute_result"
    }
   ],
   "source": [
    "len(text)"
   ]
  },
  {
   "cell_type": "code",
   "execution_count": 55,
   "id": "ee70530a-b9e6-4e29-8054-29daafe12a8a",
   "metadata": {},
   "outputs": [],
   "source": [
    "from summarize_async import recursively_summarize_async"
   ]
  },
  {
   "cell_type": "code",
   "execution_count": 57,
   "id": "f69d01d2-37bb-4fab-99eb-1d204da880b8",
   "metadata": {},
   "outputs": [],
   "source": [
    "f = open('./small.txt', 'w+')\n",
    "f.write(small_doc)\n",
    "f.close()"
   ]
  },
  {
   "cell_type": "code",
   "execution_count": null,
   "id": "ccc01a2d-ad4f-4181-abbc-9de32d6125d7",
   "metadata": {},
   "outputs": [],
   "source": [
    "recursively_summarize_async('./small.txt')"
   ]
  },
  {
   "cell_type": "code",
   "execution_count": 1,
   "id": "e98422b5-397e-42a5-87ea-01a8268fc766",
   "metadata": {},
   "outputs": [
    {
     "data": {
      "text/plain": [
       "[b'those areas. Visitors would have  additional opportunities for solitude as a result of implementation of a reservation system for campgrounds.  However, visitors could not change their itineraries once they started their trip. This system would likely  guarantee that campgrounds would never be overbooked or crowded, providing for the best opportunity for  solitude among all alternatives. However, the inability to change itineraries would detract from the  opportunity for unconfined recreation. Alternative C offers the biggest change in the opportunity for  unconfined recreation and solitude compared to current conditions. The potential opportunity for winter  public use would offer a significant new opportunity for self-reliance. Additionally, removal of the existing  shelters within wilderness would contribute to self-reliance and self-discovery. These substantial changes  would support opportunities for unconfined recreation and solitude.  The prohibition on commercial services would likely not be noticeable within wilderness because most  commercial services are offered outside the wilderness boundary. However, some commercial services rely  on campgrounds within wilderness for overnight stays. Under this alternative, the park may become less  accessible for those using commercial operators outside wilderness that rely on camping within wilderness  for overnight stays. In conclusion, this alternative would provide substantial changes in the opportunity for  visitor solitude in some areas and situations but would likely reduce access for some visitors and may result  in trail crowding and other issues in other areas.  Impacts to historic structures and installations, districts, and their associated cultural landscapes would be  similar to those described for alternative B. More structures would be stabilized under alternative C  compared to alternative B, but fewer would be preserved. The stabilized structures would continue to  contribute to the story of historic use of the island\\xe2\\x80\\x99s wilderness. The NPS would evaluate the condition of  stabilized structures over a six-year cycle. If a structure is in poor condition and no partnership program is  available to bring it to fair or good condition during the six-year cycle, the NPS would document the  structure, and it would be allowed to molder. Once structures have moldered into the landscape, they would  no longer contribute to the other features of value quality of wilderness, resulting in a permanent, adverse  impact. The NPS may continue to stabilize structures that are in fair or good condition without the  assistance of a partner.   v          Cultural  Resources \\xe2\\x80\\x93  Historic  Structures,  Districts, and  Landscapes   Alternative A: No Action   Under alternative A, beneficial impacts on historic  structures and installations would result from the  continued efforts to inventory and document historic  structures and installations, perform National Register  eligibility evaluations, and continue the preservation  and maintenance of historic structures and  installations after completion of an MRA. However,  permanent, adverse impacts on the integrity of historic  structures and districts would result from the  progressive weathering, deterioration, and potential  loss of historic structures and installations that cannot  be maintained and preserved. The lack of coordinated  preservation partnership agreements has the potential  to contribute to adverse impacts on historic structures  as contributing site features deteriorate or receive  minimal preservation direction or attention. In addition,  the lack of prioritization represented in the ad hoc  preservation of structures and installations, based on  individual condition and interests of volunteers, may  lead to a loss of integral historic features while less  significant ones are retained. Under this alternative,  there would be no attempt to prioritize which  structures and installations are retained and where  the parkshould focus limited financial resources. The  park could lose high- and low-integrity historic  structures across the landscape. Overall impacts to  historic districts are unknown because there is no  guarantee that the park would be able to focus  financial resources to maintain and restore the most  significant historic resources throughout the park.   vi   Alternative B   Alternative C   Overall, alternative C would preserve 40 structures and installations in wilderness, stabilize 34 structures  and installations (many would likely deteriorate without a future partnership program for preservation),  remove 7 structures, and 19 structures and installations would be allowed to molder in place., Alternative C  would result in fewer preserved structures than alternative B; but would have a higher number of stabilized  structures compared to alternative B. The number of removed structures under alternative C would be the  same as alternative B. There would be one more structure allowed to molder in alternative C compared to  alternative B.  Beneficial effects on historic structures over the life of this plan are expected from efforts to preserve these  structures in accordance with the Secretary of the Interior\\xe2\\x80\\x99s Standards. The integrity of associated historic  districts would be enhanced by the preservation of contributing primary historic structures. However,  permanent, adverse impacts would also result from the loss of individual historic structures and from  substantial reductions in the number of historic structures in historic districts that could further compromise  and diminish the integrity and cultural landscape characteristics of the former resorts, recreational cottages,  and fishing communities. Similar to alternative B, removal of six structures would result in permanent,  adverse impacts on the historic character of their former communities. Similarly, allowing some structures  and installations to molder would be an adverse impact, although traces of the structures are expected to  persist on the landscape for an indefinite period, continuing to impart spatial integrity and historic context  associated with their functions onto their associated districts and landscapes. Overall, the adverse impacts  associated with removal and mouldering of individual structures and installations would not be significant  because these character-diminishing actions would be limited to structures of less historic significance and  would not result in loss of National Register eligibility of the district as a whole.     Alternative B, would preserve 52 structures and installations in wilderness, stabilize 23 structures (that  could deteriorate without a future partnership program for preservation), remove 7 structures, and 18  structures and installations would be allowed to molder in place.  Beneficial effects on selected historic structures over the life of this plan are expected from efforts to  preserve them in accordance with the Secretary of the Interior\\xe2\\x80\\x99s Standards. The integrity of associated  historic districts would be enhanced by the preservation of contributing historic structures. However,  permanent and significant, adverse impacts would occur to any individual historic structure removed from  its historic setting or allowed to molder in place because those individual structures\\xe2\\x80\\x99 integrity and individual  eligibility for listing in the National Register would be compromised. In addition, permanent, adverse impacts  would also result from substantial reductions in the number of historic structures in historic districts that  could further compromise and diminish the integrity and cultural landscape characteristics of the former  resorts, recreational cottages, and fishing communities. Although structures selected for removal are  generally already deteriorated and comparatively of less historical significance than those to be retained,  their removal would nevertheless result in permanent, adverse impacts on theOPPORTUNITIES \\xe2\\x80\\x93 ALTERNATIVE A (EAST SIDE OF PARK)       CHAPTER 2: ALTERNATIVES   Trail Management   Under this alternative, all existing trails would be maintained except, in accordance with the GMP, the  Indian Portage Trail between the south and east ends of Lake Richie would be eliminated. No new trails  would be built within wilderness.   Bridges and Boardwalks   Bridges would be maintained where required for wet area crossings. Examples of existing bridges in  wilderness include Hidden Lake Bridge, Tobin Creek Bridge - Mount Franklin Trail, East Caribou Island  Bridge, Benson Creek Bridge - Daisy Farm Trail, Moskey Basin Bridge, West Chickenbone Lake Bridge,  Malone Bay Bridge, West Siskiwit Lake Bridge, Big Siskiwit River Bridge, Washington Creek Bridge,  and Grace Creek Bridge. All other crossings for resource protection are classified as boardwalks. Where  possible, boardwalks in wilderness would be removed through introduction of short reroutes or more  natural bridging methods such as placement of boulders and rocks.   Concessions and Commercial Services   The NPS evaluates all concessionaire contracts and commercial services authorizations through an extent  necessary determination before they are permitted to operate within wilderness. While park concessions  contracts are granted for more than one year at a time, other contracts are provided on a space-available  basis and are reviewed annually. Each year the park receives applications from commercial recreational  entities such as kayak outfitters that are accommodated based on campsite availability. These entities  bring hikers, backpackers, and kayakers into the wilderness for day hiking and overnight trips.   Wilderness managers will conduct an extent necessary determination prior to authorizing any commercial  services in Isle Royale wilderness. Commercial services providing access to the island typically do not  land or dock within wilderness.   Winter Closure   Isle Royale would remain closed to visitor access for visitor safety from November 1 through April 15 as  stated in the GMP and Superintendent\\xe2\\x80\\x99s Compendium.   Treatments for Historic Structures and Installations   The no-action alternative does not include a formal priority or treatment distinction for historic structures  and installations. Currently, the park is preserving and maintaining many of these structures and  installations with the help of volunteers. Preservation activities are irregular and are done when funding,  partnerships, and resources are available. Table 1 lists the historic and non-historic structures and  installations present in potential and wilderness on Isle Royale.   27    Alternative A: No Action   TABLE 1. HISTORIC STRUCTURES AND INSTALLATIONS PRESENT IN ISLE ROYALE WILDERNESS   Structure Name   Area Name   Tobin Harbor   \\xe2\\x80\\xa2  Beard Cabin; Beard Storage Structure  \\xe2\\x80\\xa2  Connolly Cabin; Connolly Guest Cabin; Connolly Privy  \\xe2\\x80\\xa2  Dassler Boat House; Dassler Privy; Dassler Cabin; Dassler Guest Cabin  \\xe2\\x80\\xa2  Edwards \\xe2\\x80\\x9cThe Gem\\xe2\\x80\\x9d (Guest Cabin); Edwards Cabin; Edwards Dining Room; Edwards   Privy; Edwards Store House   \\xe2\\x80\\xa2  Gale Cabin; Gale Guest Cabin; Gale Privy; Gale Tool Shed  \\xe2\\x80\\xa2  How Cabin; How Guest Cabin  \\xe2\\x80\\xa2  Kemmer Boat House; Kemmer Guest Cabin; Kemmer Privy; Kemmer Cabin; Kemmer   Steps; Kemmer Store House   \\xe2\\x80\\xa2  Mattson Fishery Cabin; Mattson Fishery Fishing Shed*; Mattson Fishery Privy; Mattson   Fishery Storage Structure; Mattson Fishery Net House, Mattson/Anderson Fishery  Cabin; Mattson Fishery Fish House**   \\xe2\\x80\\xa2  Merritt \\xe2\\x80\\x9cDeer House\\xe2\\x80\\x9d (Guest Cabin 1); Merritt \\xe2\\x80\\x9cMoose Manor\\xe2\\x80\\x9d (Guest Cabin 2); Merritt   \\xe2\\x80\\x9cParsonage\\xe2\\x80\\x9d; Merritt Cabin; Merritt Privy; Merritt Wood Shed   \\xe2\\x80\\xa2  Minong Island Post Office; Minong Lodge Cabin  \\xe2\\x80\\xa2  Siefert Cabin; Siefert Privy; Siefert Storage Structure  \\xe2\\x80\\xa2  Snell Cabin; Snell Guest Cabin; Snell Store House; Snell Writing Shack  \\xe2\\x80\\xa2  Stack Cabin; Stack Guest Cabin; Stack Privy East***; Stack Privy West; Stack   Fisherman\\xe2\\x80\\x99s Home   Retaining Wall   \\xe2\\x80\\xa2  Dry\\xe2\\x80\\x90Laid Stone WallNPS would not expand the number of picnic tables in wilderness and  would consider removal in some locations.  33       This page intentionally left blank.      34          35   FIGURE 9. PROPOSED GMP ZONING UNDER ALTERNATIVE B (EAST SIDE OF PARK)    This page intentionally left blank.      36    CHAPTER 2: ALTERNATIVES   Campground Management   Campgrounds. Same as alternative A, except no campground would be established at Fisherman\\xe2\\x80\\x99s Home  or Crystal Cove. Two new campgrounds would be established, one on Wright Island and another on  Johns Island in accordance with the GMP. The Johns Island campground would be provided for  nonmotorized recreation users (canoe/kayak) only (figures 10 and 11). Tents would be required to be  placed within designated tent pads. New campsites may be established within existing campgrounds if  monitoring for multiples lines of evidence documents the needs for change. Monitoring would include:  trail encounters, number of person overnights, resource damage, and visitor reports of crowding as  identified in the Wilderness Assessment and Monitoring Plan.   Group Campsites. Under alternative B, like alternative A, designated group campsites at 17  campgrounds would be maintained. Additionally, a group campsite would be established at Belle Isle  campground in nonwilderness, and infrastructure would be constructed to enhance the recreational  experience, minimize conflicts between different user groups, and enhance solitude.   Cross-Country Camping. Cross-country camping zones would continue to be determined annually by  management for resource concerns (see figure 6). Cross-country camping restrictions within open zones  would be revised to state that \\xe2\\x80\\x9ccampers cannot be visible from the water or to another camping party and  may not be within 0.25-mile of any existing campground.\\xe2\\x80\\x9d   Trail Management   Under this alternative, the GMP would be amended to allow trails to be rerouted to ensure water  availability to backpackers in wilderness, reduce maintenance costs, and address impacts to the natural  quality of wilderness character, including resources such as nesting eagles or loons. In addition, the Indian  Portage Trail between the south and east ends of Lake Richie would be retained. Several new trails would  be established under this alternative, as detailed below and illustrated in figures 12 and 13.   Within Tobin Harbor Area. Tobin Harbor Historic Cabin Loop Trail (from Scoville Point to Dassler  Cabin, on to Snell Cabin, and then returning to Scoville Point). This trail would have a distance of  0.68 miles (1.1 kilometers [km]) in wilderness.   Minong Island Trail (from the Post Office dock to Stack Cabin). This trail would have a distance of  0.25 miles (0.4 km).   Outside the Tobin Harbor Area. Windigo Day Use Trail (part of the Windigo Development Concept  Plan). This trail would be predominantly outside wilderness with a limited distance within wilderness of  0.3 miles (0.5 km).   Bangsund Fishery Trail (from Edisen Fishery in nonwilderness to Bangsund in wilderness). This trail  currently exists as a social trail and would be added to the park\\xe2\\x80\\x99s trail inventory. This trail is 0.45 miles  (0.7 km) long.   The NPS would continue to use chainsaws or other forms of motorized equipment for trail clearing. Use  of chainsaws or other forms of motorized equipment and mechanical transport in wilderness would be  subject to MRA.   If monitoring shows that persistent crowding on trails is prohibiting the park from reaching or  maintaining desired conditions (i.e., related to the natural quality of wilderness and providing outstanding  opportunities for solitude or primitive and unconfined recreation, as described in chapter 1), the park may   37    Alternative B (Proposed Action and Preferred Alternative)   consider adding trails. New trails in wilderness would only be added if they would improve wilderness  quality and maintain access. Additional NEPA analysis would be required before new trails,beyond those  described above, would be established.   Bridges and Boardwalks   The GMP would be amended to allow for more flexible management of bridges and boardwalks,  including rerouting, removal, or improvements. Wherever possible, the park would reroute trails or use  natural bridging methods (i.e., placement of rocks and boulders) to avoid the need for a bridge or  boardwalk, and would remove existing bridges and boardwalks whenever possible. The Big Siskiwit  River Bridge would be removed, and a smaller structural crossing at the Siskiwit River would be  constructed.   Concessions and Commercial Services   Commercial services may be provided within wilderness areas to the extent necessary for activities that  are proper for realizing the recreational or other wilderness purposes of the area (16 U.S.C. \\xc2\\xa7 1133(d)(5)).  Commercial services provided to access the island typically do not land or dock within wilderness. The  following activities may be considered pending an extent necessary determination: guided hiking, guided  backpacking, interpretive tours and educational programs, and guided kayak/canoe trips.   Winter Closure   Isle Royale would remain closed during the winter season. To provide additional opportunities for  solitude, the closure would be reevaluated if open water existed during 100% of the winter season for at  least five consecutive years.   38       FIGURE 10. EXISTING AND PROPOSED CAMPGROUNDS UNDER ALTERNATIVE B (WEST)         39       40   FIGURE 11. EXISTING AND PROPOSED CAMPGROUNDS UNDER ALTERNATIVE B (EAST)             FIGURE 12. PROPOSED NEW TRAILS UNDER ALTERNATIVE B (WEST)         41       42   FIGURE 13. PROPOSED NEW TRAILS UNDER ALTERNATIVE B (EAST)       CHAPTER 2: ALTERNATIVES   Treatments for Historic Structures and Installations   Under section 4(c) of the Wilderness Act, structures and installations generally are prohibited in  wilderness \\xe2\\x80\\x9cexcept as necessary to meet minimum requirements for the administration of the area for the  purpose of this Act.\\xe2\\x80\\x9d However, courts have begun to recognize that the Wilderness Act is ambiguous  regarding the preservation of historic structures and installations in wilderness, and recent cases  (Wilderness Watch v. Creachbaum) have deferred to the interpretation of various agencies, including the  NPS, that historic preservation can further a goal of the Wilderness Act.   Whether maintenance of a historic structure or installation is necessary to achieve the NPS\\xe2\\x80\\x99s historic  preservation goals in wilderness is contingent on several factors including its historic significance,  uniqueness, historic integrity, impacts on wilderness character, structural condition, and contribution to  the creation of the wilderness. In identifying proposed treatments for historic structures and installations  in Isle Royale\\xe2\\x80\\x99s wilderness, the NPS determined whether maintaining each historic structure or  installation would be necessary to preserve the park\\xe2\\x80\\x99s fundamental resources and values or other  important resources and values as defined in the Foundation Document (NPS 2016a). The NPS also  considered whether alternative treatments, such as documentation of the resource and either allowing it to  deteriorate or removing the resource, would be insufficient to achieve those goals. A structure may also  be preserved to house administrative functions if this use is found to be the minimum necessary for  administration of the wilderness.   In developing the proposed treatments to historic structures, the NPS considered input from Tribes and  non-Tribal consulting parties, as well as subject matter experts in both wilderness and cultural resource  preservation. The four proposed treatments are described below. These treatments conform to guidance  for managing historic structures and installations in wilderness provided in Reference Manual 41:  Wilderness Stewardship (NPS 2022).   Preservation. Preservation is the act or process of applying the measures necessary to sustainhow or whether to divest of wilderness in the park. Additionally, this alternative was  rejected because it would require a change to existing law. The NPS cannot alter wilderness boundaries  designated by Congress.   Changes to ferry transportation options to the park. Changes to the ferry system, sea planes, or other  means of access to the park were not considered for analysis because they would not directly meet the  purpose of the plan, which is to outline strategies for preserving the wilderness character of the park while  providing for its use and enjoyment by current and future generations. Therefore, this topic was dismissed  from further analysis.   Public overnight use of historic structures in wilderness. The NPS considered but dismissed public  overnight use of historic structures in wilderness for several reasons. It was unclear if the structures could  be made safe for overnight public access. Public overnight use of structures in wilderness generally  detracts from the opportunity for primitive, unconfined recreation and because the close proximity of the  historic structures detracts from the opportunity to experience solitude. Additionally, some of the  structures are proposed for administrative uses, which would conflict with overnight public access while  others are too remote for administrative oversight. At other sites, significant obstacles related to human  waste disposal exist, or the structure is intended to be used for another public use opportunity (day access)  within wilderness. The threat of catastrophic loss of the structures from fire, other accidents, and  vandalism would increase if the structures had regular overnight use. After all considerations, the NPS  dismissed public overnight use of historic structures.   Additional trails and campgrounds. The park considered adding additional trails and campgrounds  beyond those identified in alternatives A and B. The park dismissed this alternative because it was unable  to identify a need for additional trails and campgrounds beyond those already proposed. Establishing  trails and campgrounds requires staff resources, additional surveys, and has the potential to impact the  natural quality of wilderness.   Opening park wilderness to hunting. Public hunting on Isle Royale is closed pursuant to 36 CFR 2.2.   66    Element   Alternative A   General Management Plan  Zones   See figures 4 and 5.   Alternative C   Same as alternative A.  Amygdaloid Ranger Station would be rezoned from backcountry to wilderness portal zone to  reflect current and proposed ongoing use of the area for administrative use.   TABLE 22. SUMMARY OF ALTERNATIVE ELEMENTS   Alternative B   To align current and proposed uses under this alternative with appropriate GMP zones,  various areas of the park would be rezoned. The pristine zone would be renamed to the  wilderness immersion zone, amending a portion of the GMP; however, the description and  use of this zone as outlined in the GMP would not change.  Bangsund and Kemmer Cabins and related trails would be rezoned from wilderness  immersion to backcountry to reflect current and proposed uses. Amygdaloid Ranger Station  would be rezoned from backcountry to wilderness portal zone to reflect current and proposed  ongoing use of the area for administrative use.  The wilderness immersion zone (formerly the pristine zone) around the new Windigo Trail  section within wilderness would be rezoned to backcountry to accommodate trail  development for day users, allowing for better separation of users in this portal area.  The GMP would be revised. Visitor capacity would be managed through backcountry  camping permits, trail management, and overnight and day group size limits. There would be  no boat or sea plane visitor limits. Wilderness campers should possess a camping permit or  access a permit prior to boarding/departure to ensure accommodations.  An advance permitting system and monitoring program would be established, which wouldin permanent, beneficial effects to the undeveloped quality once these structures are no  longer on the landscape.   Under alternatives A and B, the park would conduct an extent necessary determination before authorizing  any commercial services in Isle Royale wilderness. Under alternative C, the prohibition on commercial  services would likely not be noticeable within wilderness because most commercial services are offered   108    CHAPTER 4: ENVIRONMENTAL CONSEQUENCES    outside the wilderness boundary. However, some of those commercial services rely on campgrounds  within wilderness for overnight stays. Under this alternative, the park may become less accessible for  those using commercial operators outside wilderness that rely on camping within wilderness for overnight  stays.   CULTURAL RESOURCES  Alternative A: No Action (Implement the General Management Plan as Currently  Written)   Historic structures would continue to be identified, documented, and evaluated with respect to National  Register criteria. In instances where historic structures are retained, they would be preserved and  maintained in accordance with the Secretary of the Interior\\xe2\\x80\\x99s Standards for Treatment of Historic  Properties as well as the requirements for preserving wilderness character. Prioritization of historic  structures would continue to follow the GMP, with no prioritization of which structures should be  retained and preserved. The structures\\xe2\\x80\\x99 design and materials, character-defining features, rustic  appearance, setting, feeling, and association with recreation in a remote island setting would be  maintained. Elements of the natural settings surrounding historic structures (e.g., topography, vegetation,  views, and vistas) have remained largely unchanged from the period of significance and would continue  to be managed to provide a rustic and overall natural or wilderness setting. Retaining historic structures  would generally have beneficial impacts on the historic character of these structures over the life of this  plan. The structures would maintain the integrity of associated historic districts and cultural landscapes by  retaining the vernacular design characteristics and spatial relationships of contributing structures and  landscape elements that reflect the period of historical significance.   Where preservation is no longer possible for structures that exhibit advanced deterioration, structures  would further deteriorate and be reclaimed by natural processes. The remains of these structures would  likely persist on the landscape for indefinite periods of time, retaining their spatial relationships and  serving as discovery sites for future visitors to experience the history of the site. Nevertheless, allowing  the structures to deteriorate would represent an adverse impact on them and their districts, and NPS staff  would carry out appropriate measures to mitigate adverse impacts, including documenting and recording  historic structures prior to abandonment. Because the historical integrity of National Register districts  may be compromised if critical numbers of structures are removed or allowed to deteriorate, NPS staff  would consult with historic preservation stakeholders to determine means of preserving district integrity  or mitigating its loss.   Cumulative Impacts   The primary action that would contribute to cumulative impacts for cultural resources is the past removal  of structures in wilderness and the past and ongoing maintenance of historic structures in wilderness. The  removal and relocation of large numbers of structures, undertaken largely to reduce the footprint of past  human activities and accentuate the park\\xe2\\x80\\x99s natural and wilderness values, diminished the character- defining qualities of historic properties (historic districts, structures, and sites). Structure removal resulted  in permanent, adverse impacts on associated cultural landscapes.   Past and ongoing preservation maintenance for selected historicsimilar to those taken under  alternative B. The primary differences are that nine structures slated for preservation under alternative B  would be stabilized under alternative C; three structures stabilized under alternative B would be  preserved, and one structure, the Kemmer Store House, which would be left to molder under alternative B  would be preserved under alternative C.   Preservation of the Kemmer Store House and three privies would have a beneficial impact on the historic  district and landscape because the privies, which are rarely found intact, would be retained within the  district. Under this alternative, the same potential for both beneficial and significant, adverse impacts to  the integrity of the Tobin Harbor Historic District and landscape would be realized by the uncertainties of  preservation outcomes presented by the stabilization actions.   Beneficial effects on the district are expected from the actions taken to preserve 23 historic structures to  the Secretary of the Interior\\xe2\\x80\\x99s Standards, and moderate, adverse impacts are expected from allowing  5 structures to molder in place. Ultimately, the impact to the district is expected to be beneficial when all  24 stabilized structures are preserved under cooperative agreements, but because those agreements are not  yet in place, and significant, adverse impacts are expected if they are unsuccessful, the overall impact of  the alternative is unknown.   Crystal Cove. Under alternative C, the four most important structures to the history and significance of  the camp at Crystal Cove would be preserved in accordance with the Secretary of the Interior\\xe2\\x80\\x99s Standards.  Preservation of selected structures would represent a beneficial impact on the historic character of the site,  providing a semblance of the site\\xe2\\x80\\x99s former architecture and community development. Three other  associated outbuildings in the camp would be documented and allowed to molder in place. This action  would represent a permanent, adverse impact and loss of district/cultural landscape integrity, though for   113    Cultural Resources   some period of time, the mouldering structures would continue to contribute to spatial understanding of  the complex and historic use of the site. Ultimately the deteriorating structures would be reduced to  archeological sites that would persist on the landscape indefinitely, unseen, but continuing to contribute  the historic integrity of the district. Two structures, the generator house and smoke house, would be  demolished, which would represent a permanent, adverse impact and loss of district/cultural landscape  integrity. Appropriate recordation and documentation would be carried out as part of a mitigation strategy  for moldered and demolished structures.   Fisherman\\xe2\\x80\\x99s Home Area. Impacts would be identical to alternative B.   Johnson Island. Impacts would be identical to alternative B.   Wright Island. Impacts would be identical to alternative B.   Bangsund. Impacts would be identical to alternative B.   Other Historic Structures and Installations. The treatment for the other historic structures and  installations would be the same as described for alternative B, except that the Powder House Ruins and  Hoist Engine at the Island Mine complex would be stabilized under alternative C rather than preserved.   Cumulative Impacts   Overall, past, present, and reasonably foreseeable future actions would be the same as those described for  alternative A. The impacts associated with implementation of the alternative C would have permanent,  beneficial impacts on selected core historic structures, and the integrity of associated historic districts  would be enhanced by the preservation of core contributing historic structures. However, permanent,  significant, adverse impacts would be realized on any individual historic structure relocated from its  historic setting, removed from its historic setting, or allowed to deteriorate in place. In addition,  permanent,adverse impacts would also result from substantial reductions in the number of historic  buildings in historic districts that could further compromise and diminish the integrity and cultural  landscape characteristics of the former resorts, recreational cottages, and fishing communities. When the  incremental impacts of alternative C are added to the past, present, and reasonably foreseeable future  actions, impacts on historic structures and districts would be permanent and adverse, mostly due to the  expected loss of structures to deterioration or removal in places with already reduced numbers of  contributing structures to the historic district. Alternative C would contribute a noticeable component to  this adverse cumulative impact.   Conclusion   Under the no-action alternative, permanent, beneficial impacts on historic structures would result from the  continued efforts to inventory and document historic structures, perform National Register eligibility  evaluations, and the continued preservation and maintenance of some historic structures. However,  permanent, adverse impacts on the integrity of historic structures and districts would result from the  progressive weathering, deterioration, and potential loss of historic structures that cannot be maintained  and preserved. The lack or elimination of coordinated preservation cooperative agreements has the  potential to contribute to adverse historic structure impacts as contributing site features deteriorate or  receive minimal preservation direction or attention. In addition, the lack of prioritization represented in  ad hoc preservation of structures, based on individual condition and interests of volunteers, may lead to  loss of integral historic features while less significant ones are retained. Under the no-action alternative,  there would be no attempt to prioritize which structures are retained or determine where the park would  focus financial resources. Under this alternative, the park could potentially lose high-and low-integrity   114    CHAPTER 4: ENVIRONMENTAL CONSEQUENCES    historic structures across the park. Overall impacts to historic districts are unknown because there is no  guarantee that the park would be able to focus financial resources for maintaining and restoring the most  significant historic resources throughout the park.   Impacts to historic structures, installations, and their associated districts under alternative C would be the  same as those described under alternative B except for Tobin Harbor, Crystal Cove, and the Power House  Ruins and Hoist Engine at Island Mine complex. For Tobin Harbor, five fewer structures would be  preserved, and would be stabilized instead. The two cabins, lodge, and house at Crystal Cove and the  Power House Ruins and Hoist Engine at Island Mine complex would be stabilized rather than preserved  under alternative C. The number of demolished structures under alternative C would be the same as under  alternative B. There would be one fewer moldered structure under alternative C compared to  alternative B.   When compared to the no-action alternative, permanent, beneficial impacts on historic structures are  expected from both alternatives B and C from efforts to preserve them in accordance with the Secretary of  the Interior\\xe2\\x80\\x99s Standards, though fewer properties would be preserved under alternative C. Thus,  alternative B would have the most permanent, beneficial impact on historic structures. The integrity of  associated historic districts would be enhanced by the preservation of contributing primary historic  structures. However, permanent, adverse impacts would also result under both alternatives B and C from  the loss of individual historic structures and from substantial reductions in the number of historic  structures in historic districts that could further compromise and diminish the integrity and cultural  landscape characteristics of the former resorts, recreational cottages, and fishing communities.opposition noted concerns about the  consequences of reduced access to the park and impacts to  the commercial access for a broader community. They further  stated that more amenities should be provided to serve more  people and that alternative C is too restrictive in access to the  public. Additionally, they felt that adding more wilderness  would provide more barriers to access. Commenters also  noted that potential wilderness should not be reclassified as  designated wilderness if NPS continues to maintain any  structures within it.    Total   Correspondences   29   55   1,303 (which   includes 950 form   letters)   117    The Scoping Process   Total   Correspondences   Code   Concern Statements   AL1300 \\xe2\\x80\\x93 Range of  Alternatives   AL1400 \\xe2\\x80\\x93 Considering  Climate Change   AL1500 \\xe2\\x80\\x93 Alternatives and  Alternative Elements   AL1501 \\xe2\\x80\\x93 Campground  Reservations/Management   AL1502 \\xe2\\x80\\x93 Winter Access   AL1503 \\xe2\\x80\\x93 Bangsund  Management   AL1504 \\xe2\\x80\\x93 Trails  Management   Commenters provided thoughts on the preliminary range of  alternatives, including comments supporting, opposing,  presenting specific ideas, or suggesting that the preliminary  range is/is not sufficient. Some specific suggestions included  creating a mix of elements from alternatives B and C.  Commenters discussed the type and intensity of management  that should be considered given the influence of climate  change. Some commenters suggested the EIS discuss climate  change and the impact it has on the proposed actions. Other  commenters suggested a \\xe2\\x80\\x9chands-off\\xe2\\x80\\x9d approach, meaning there  should be no human intervention or human influence in the  wilderness.  Commenters made suggestions related to the preliminary  alternatives and alternative elements presented in the  newsletter. Suggestions included consideration of additional  day use options; more options for boaters and fishermen;  additional access to historic sites; more recreational options,  including kayaking and boat rentals; suggestions to eliminate  commercial use and hammock use. Some commenters  suggested the use of clean energy sources to eliminate  generator use or eliminating generator use overall.  Commenters voiced their support or opposition to a permit or  reservation system for campgrounds including the increased  maintenance burden to the park and concerns about deferred  maintenance. Some commenters suggested increasing or  maintaining shelters and other improvements such as  composting toilets, boardwalks, and bridges.  Commenters expressed both support and opposition for being  able to access the park during the winter. They expressed  concern about the ability of the park to staff winter operations,  as well as safety and potentially dangerous search and rescue  operations. Other commenters noted that the winter is a time  of recovery for park flora and fauna and questioned the impact  of winter use on these resources as well as on the research  studies that occur during the winter. Commenters  recommended that if winter use is allowed, there should be  limits on duration, education, and detailed itineraries.  Commenters noted support for the continued operation of the  Bangsund Research Station and the properties associated  with the site.   Commenters expressed both support and opposition for  creating new trails. Suggestions related to trail operation and  maintenance included providing better accessibility on trails for  the elderly and disabled communities by making them wider,  maintaining existing trails to reduce social trailing, adding  campsites, adding connector trails to distribute people to other  areas to reduce crowding, and adding trail shelters to provide  comfort, quiet, and solitude. Specific locations suggested for  additional trails included adding looped hiking trails to those  backcountry campsites similar to the Scoville Point trail out of  Rock Harbor.   4   4   4   43   17   38   20   118    CHAPTER 5: CONSULTATION AND COORDINATION    Code   Concern Statements   AL1505 \\xe2\\x80\\x93']"
      ]
     },
     "execution_count": 1,
     "metadata": {},
     "output_type": "execute_result"
    }
   ],
   "source": [
    "f = open('./small.txt', 'rb')\n",
    "f.readlines()"
   ]
  },
  {
   "cell_type": "code",
   "execution_count": 60,
   "id": "8fa1662e-bf3a-4186-94cf-81043bce5d7f",
   "metadata": {},
   "outputs": [],
   "source": [
    "from summarize_async import embed_async"
   ]
  },
  {
   "cell_type": "code",
   "execution_count": null,
   "id": "75f4a7fd-e527-4601-8553-786b0750a5c5",
   "metadata": {},
   "outputs": [],
   "source": [
    "f = open('./all.txt', 'w+')\n",
    "f.write(text)\n",
    "f.close()\n",
    "\n",
    "res = embed_async('./all.txt')"
   ]
  },
  {
   "cell_type": "code",
   "execution_count": null,
   "id": "48377b00-7b06-4b3c-8d13-9fe6171b3087",
   "metadata": {},
   "outputs": [],
   "source": [
    "print(res)"
   ]
  }
 ],
 "metadata": {
  "kernelspec": {
   "display_name": "Python 3 (ipykernel)",
   "language": "python",
   "name": "python3"
  },
  "language_info": {
   "codemirror_mode": {
    "name": "ipython",
    "version": 3
   },
   "file_extension": ".py",
   "mimetype": "text/x-python",
   "name": "python",
   "nbconvert_exporter": "python",
   "pygments_lexer": "ipython3",
   "version": "3.11.4"
  }
 },
 "nbformat": 4,
 "nbformat_minor": 5
}
